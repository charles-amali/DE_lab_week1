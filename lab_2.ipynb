{
 "cells": [
  {
   "cell_type": "code",
   "execution_count": 2,
   "id": "53975de0-651d-4d18-ae7c-83c98d49148f",
   "metadata": {},
   "outputs": [],
   "source": [
    "from sqlalchemy import create_engine\n",
    "import mysql.connector\n",
    "import pandas as pd\n",
    "import db_config  \n",
    "\n",
    "# Set up the connection string\n",
    "connection_string = f\"mysql+mysqlconnector://{db_config.user}:{db_config.password}@{db_config.host}/{db_config.database}\"\n",
    "\n",
    "# Create SQLAlchemy engine\n",
    "engine = create_engine(connection_string)\n"
   ]
  },
  {
   "cell_type": "code",
   "execution_count": 4,
   "id": "cb4ab26d-a286-4361-97d4-3a8896991b70",
   "metadata": {},
   "outputs": [],
   "source": [
    "# Load each CSV file into a separate DataFrame\n",
    "customers_df = pd.read_csv('ShopEase Data/customers.csv')\n",
    "orders_df = pd.read_csv('ShopEase Data/orders.csv')  \n",
    "products_df = pd.read_csv('ShopEase Data/products.csv')  \n"
   ]
  },
  {
   "cell_type": "code",
   "execution_count": 6,
   "id": "826c64a6-51d9-4ee9-a783-389e8e77db52",
   "metadata": {},
   "outputs": [
    {
     "data": {
      "text/plain": [
       "50"
      ]
     },
     "execution_count": 6,
     "metadata": {},
     "output_type": "execute_result"
    }
   ],
   "source": [
    "# Load DataFrames into MySQL\n",
    "orders_df.to_sql('orders', con=engine, if_exists='replace', index=False)\n",
    "products_df.to_sql('products', con=engine, if_exists='replace', index=False)\n",
    "customers_df.to_sql('customers', con=engine, if_exists='replace', index=False)\n"
   ]
  }
 ],
 "metadata": {
  "kernelspec": {
   "display_name": "Python 3 (ipykernel)",
   "language": "python",
   "name": "python3"
  },
  "language_info": {
   "codemirror_mode": {
    "name": "ipython",
    "version": 3
   },
   "file_extension": ".py",
   "mimetype": "text/x-python",
   "name": "python",
   "nbconvert_exporter": "python",
   "pygments_lexer": "ipython3",
   "version": "3.12.7"
  }
 },
 "nbformat": 4,
 "nbformat_minor": 5
}
