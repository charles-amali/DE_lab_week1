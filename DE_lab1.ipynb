{
 "cells": [
  {
   "cell_type": "markdown",
   "id": "9b29a633-177a-41b1-a2e9-8f210f760cbc",
   "metadata": {},
   "source": [
    "# Lab Exercise 1: Advanced Python with Pandas and Numpy"
   ]
  },
  {
   "cell_type": "markdown",
   "id": "91804bc0-95d6-431d-ba65-a55b9b3da61f",
   "metadata": {},
   "source": [
    "## Importing python modules"
   ]
  },
  {
   "cell_type": "code",
   "execution_count": 2,
   "id": "31825e0f-347e-4507-a766-88f646f863c0",
   "metadata": {},
   "outputs": [],
   "source": [
    "import pandas as pd\n",
    "import numpy as np\n",
    "import mysql.connector\n",
    "from mysql.connector import Error\n",
    "import matplotlib.pyplot as plt\n",
    "import db_config "
   ]
  },
  {
   "cell_type": "markdown",
   "id": "b03b7215-2fb4-4980-b1cf-e1c12183277d",
   "metadata": {},
   "source": [
    "## Data Loading"
   ]
  },
  {
   "cell_type": "code",
   "execution_count": 4,
   "id": "e634dc7c-c11c-469d-bcf7-f201b5dd6c95",
   "metadata": {},
   "outputs": [],
   "source": [
    "# Load each CSV file into a separate DataFrame\n",
    "orders_df = pd.read_csv('ShopEase Data/orders.csv')  \n",
    "products_df = pd.read_csv('ShopEase Data/products.csv')  "
   ]
  },
  {
   "cell_type": "markdown",
   "id": "ba2e17a8-9cf6-4235-909b-bf89cf97637b",
   "metadata": {},
   "source": [
    "## Display top rows of:\n",
    "\n",
    "\n",
    "1. Order data\n",
    "2. Product data\n",
    "\n",
    "\n"
   ]
  },
  {
   "cell_type": "code",
   "execution_count": 6,
   "id": "1de1aa4e-f99b-43e0-bec6-540c522ef137",
   "metadata": {},
   "outputs": [
    {
     "name": "stdout",
     "output_type": "stream",
     "text": [
      "\n",
      "Orders Data:\n",
      "   order_id  Cutomer_id order_date  product_id  quantity\n",
      "0         1          20  11/1/2024           3         2\n",
      "1         2          36  11/1/2024           1         1\n",
      "2         3           1  11/1/2024           8         3\n",
      "3         4          36  11/2/2024           6         1\n",
      "4         5          14  11/2/2024          12         2\n",
      "\n",
      "Products Data:\n",
      "   product_id    product_name     category   price\n",
      "0           1          Laptop  Electronics  1200.0\n",
      "1           2      Smartphone  Electronics   800.0\n",
      "2           3          Tablet  Electronics   450.0\n",
      "3           4  Wireless Mouse  Electronics    25.0\n",
      "4           5        Keyboard  Electronics    50.0\n"
     ]
    }
   ],
   "source": [
    "# Display the first few rows of each DataFrame\n",
    "print(\"\\nOrders Data:\")\n",
    "print(orders_df.head())\n",
    "print(\"\\nProducts Data:\")\n",
    "print(products_df.head())\n"
   ]
  },
  {
   "cell_type": "code",
   "execution_count": 8,
   "id": "4816bca0-70d2-4c93-a0cb-2210c684b898",
   "metadata": {},
   "outputs": [
    {
     "name": "stdout",
     "output_type": "stream",
     "text": [
      "Index(['order_id', 'Cutomer_id', 'order_date', 'product_id', 'quantity'], dtype='object')\n",
      "Index(['product_id', 'product_name', 'category', 'price'], dtype='object')\n"
     ]
    }
   ],
   "source": [
    "# Checking column names in each DataFrame\n",
    "print(orders_df.columns)\n",
    "print(products_df.columns)"
   ]
  },
  {
   "cell_type": "markdown",
   "id": "30616774-6f37-499f-856e-18dcf84f4ecc",
   "metadata": {},
   "source": [
    "## Merging orders with products to form the sales data frame"
   ]
  },
  {
   "cell_type": "code",
   "execution_count": 10,
   "id": "3481ce6d-0bac-4484-a11f-1bde713dda82",
   "metadata": {},
   "outputs": [],
   "source": [
    "# merging the orders_df with products_df on product_id\n",
    "sales_df = pd.merge(orders_df, products_df, on = 'product_id')"
   ]
  },
  {
   "cell_type": "code",
   "execution_count": 12,
   "id": "162c32f5-43e1-49b5-8e96-66884e3219d4",
   "metadata": {},
   "outputs": [
    {
     "data": {
      "text/html": [
       "<div>\n",
       "<style scoped>\n",
       "    .dataframe tbody tr th:only-of-type {\n",
       "        vertical-align: middle;\n",
       "    }\n",
       "\n",
       "    .dataframe tbody tr th {\n",
       "        vertical-align: top;\n",
       "    }\n",
       "\n",
       "    .dataframe thead th {\n",
       "        text-align: right;\n",
       "    }\n",
       "</style>\n",
       "<table border=\"1\" class=\"dataframe\">\n",
       "  <thead>\n",
       "    <tr style=\"text-align: right;\">\n",
       "      <th></th>\n",
       "      <th>order_id</th>\n",
       "      <th>Cutomer_id</th>\n",
       "      <th>order_date</th>\n",
       "      <th>product_id</th>\n",
       "      <th>quantity</th>\n",
       "      <th>product_name</th>\n",
       "      <th>category</th>\n",
       "      <th>price</th>\n",
       "    </tr>\n",
       "  </thead>\n",
       "  <tbody>\n",
       "    <tr>\n",
       "      <th>0</th>\n",
       "      <td>1</td>\n",
       "      <td>20</td>\n",
       "      <td>11/1/2024</td>\n",
       "      <td>3</td>\n",
       "      <td>2</td>\n",
       "      <td>Tablet</td>\n",
       "      <td>Electronics</td>\n",
       "      <td>450.0</td>\n",
       "    </tr>\n",
       "    <tr>\n",
       "      <th>1</th>\n",
       "      <td>2</td>\n",
       "      <td>36</td>\n",
       "      <td>11/1/2024</td>\n",
       "      <td>1</td>\n",
       "      <td>1</td>\n",
       "      <td>Laptop</td>\n",
       "      <td>Electronics</td>\n",
       "      <td>1200.0</td>\n",
       "    </tr>\n",
       "    <tr>\n",
       "      <th>2</th>\n",
       "      <td>3</td>\n",
       "      <td>1</td>\n",
       "      <td>11/1/2024</td>\n",
       "      <td>8</td>\n",
       "      <td>3</td>\n",
       "      <td>Headphones</td>\n",
       "      <td>Electronics</td>\n",
       "      <td>150.0</td>\n",
       "    </tr>\n",
       "    <tr>\n",
       "      <th>3</th>\n",
       "      <td>4</td>\n",
       "      <td>36</td>\n",
       "      <td>11/2/2024</td>\n",
       "      <td>6</td>\n",
       "      <td>1</td>\n",
       "      <td>Smartwatch</td>\n",
       "      <td>Electronics</td>\n",
       "      <td>200.0</td>\n",
       "    </tr>\n",
       "    <tr>\n",
       "      <th>4</th>\n",
       "      <td>5</td>\n",
       "      <td>14</td>\n",
       "      <td>11/2/2024</td>\n",
       "      <td>12</td>\n",
       "      <td>2</td>\n",
       "      <td>Desk</td>\n",
       "      <td>Furniture</td>\n",
       "      <td>300.0</td>\n",
       "    </tr>\n",
       "  </tbody>\n",
       "</table>\n",
       "</div>"
      ],
      "text/plain": [
       "   order_id  Cutomer_id order_date  product_id  quantity product_name  \\\n",
       "0         1          20  11/1/2024           3         2       Tablet   \n",
       "1         2          36  11/1/2024           1         1       Laptop   \n",
       "2         3           1  11/1/2024           8         3   Headphones   \n",
       "3         4          36  11/2/2024           6         1   Smartwatch   \n",
       "4         5          14  11/2/2024          12         2         Desk   \n",
       "\n",
       "      category   price  \n",
       "0  Electronics   450.0  \n",
       "1  Electronics  1200.0  \n",
       "2  Electronics   150.0  \n",
       "3  Electronics   200.0  \n",
       "4    Furniture   300.0  "
      ]
     },
     "execution_count": 12,
     "metadata": {},
     "output_type": "execute_result"
    }
   ],
   "source": [
    "sales_df.head()"
   ]
  },
  {
   "cell_type": "markdown",
   "id": "1208053a-3641-4e25-b671-95a2e9ac98bd",
   "metadata": {},
   "source": [
    "## Cleaning sales dataframes"
   ]
  },
  {
   "cell_type": "code",
   "execution_count": 14,
   "id": "049d1db9-5a92-4bd9-b9a3-e0a9f589e85b",
   "metadata": {},
   "outputs": [],
   "source": [
    "# Replace missing values with 0\n",
    "sales_df.fillna(0, inplace=True) \n",
    "\n",
    "# remove rows with missing values\n",
    "sales_df.dropna(inplace=True)\n",
    "\n",
    "# remove duplicate rows if any\n",
    "sales_df.drop_duplicates(inplace=True)\n",
    "\n",
    "#converting columns to the correct data types\n",
    "sales_df['order_date'] = pd.to_datetime(sales_df['order_date'])\n",
    "sales_df['quantity'] = sales_df['quantity'].astype(int)\n",
    "sales_df['price'] = sales_df['price'].astype(float)\n",
    "\n"
   ]
  },
  {
   "cell_type": "markdown",
   "id": "189a2463-b4db-4225-afd3-7537fd113fc8",
   "metadata": {},
   "source": [
    "## Total Revenue per order with Numpy"
   ]
  },
  {
   "cell_type": "code",
   "execution_count": 16,
   "id": "fbf6ae6e-1911-43e7-a3b7-2f6739d4d2bd",
   "metadata": {},
   "outputs": [],
   "source": [
    "# creating a new column 'total_revenue' by multiplying quantity and price columns\n",
    "sales_df['total_revenue'] = sales_df['quantity'] * sales_df['price']\n"
   ]
  },
  {
   "cell_type": "markdown",
   "id": "52d72071-8c75-4466-ba3d-c2752940de64",
   "metadata": {},
   "source": [
    "## Data Transformation"
   ]
  },
  {
   "cell_type": "code",
   "execution_count": 18,
   "id": "8f931f09-c8d9-4a49-bb37-6745235b8a58",
   "metadata": {},
   "outputs": [],
   "source": [
    "# Extract Year, Month, and Day from the Date Column\n",
    "sales_df['year'] = sales_df['order_date'].dt.year\n",
    "sales_df['month'] = sales_df['order_date'].dt.month\n",
    "sales_df['day'] = sales_df['order_date'].dt.day\n"
   ]
  },
  {
   "cell_type": "markdown",
   "id": "aa3df377-61df-4909-bd54-d9d1a52cb48d",
   "metadata": {},
   "source": [
    "## Visualization (Monthly Sales Trend)"
   ]
  },
  {
   "cell_type": "code",
   "execution_count": 20,
   "id": "18424377-eac3-4aba-95b2-74b6d40e865e",
   "metadata": {},
   "outputs": [
    {
     "data": {
      "image/png": "[encoded data removed]",
      "text/plain": [
       "<Figure size 640x480 with 1 Axes>"
      ]
     },
     "metadata": {},
     "output_type": "display_data"
    }
   ],
   "source": [
    "monthly_sales = sales_df.groupby('month')['total_revenue'].sum()\n",
    "monthly_sales.plot(kind='line', marker='o', title=\"Monthly Sales Trend\")\n",
    "plt.xlabel('Month')\n",
    "plt.ylabel('Total Revenue')\n",
    "plt.show()\n"
   ]
  },
  {
   "cell_type": "markdown",
   "id": "adbedadc-b911-4269-9abe-9a6f42c47dc6",
   "metadata": {},
   "source": [
    "## Database connection and populating"
   ]
  },
  {
   "cell_type": "code",
   "execution_count": 40,
   "id": "28a1fb85-b08c-49f7-a40d-2c7d59074da2",
   "metadata": {},
   "outputs": [
    {
     "name": "stdout",
     "output_type": "stream",
     "text": [
      "Connection to the database was successful.\n",
      "Table created successfully.\n",
      "(1, datetime.date(2024, 11, 1), 2, 450.0, 900.0, 2024, 11, 1)\n",
      "(2, datetime.date(2024, 11, 1), 1, 1200.0, 1200.0, 2024, 11, 1)\n",
      "(3, datetime.date(2024, 11, 1), 3, 150.0, 450.0, 2024, 11, 1)\n",
      "(4, datetime.date(2024, 11, 2), 1, 200.0, 200.0, 2024, 11, 2)\n",
      "(5, datetime.date(2024, 11, 2), 2, 300.0, 600.0, 2024, 11, 2)\n",
      "MySQL connection is closed.\n"
     ]
    }
   ],
   "source": [
    "try:\n",
    "    # Setting up connection details\n",
    "    connection = mysql.connector.connect(\n",
    "        host=db_config.host,\n",
    "        user=db_config.user,\n",
    "        password=db_config.password,\n",
    "        database=db_config.database\n",
    "    )\n",
    "    \n",
    "    if connection.is_connected():\n",
    "        print(\"Connection to the database was successful.\")\n",
    "        cursor = connection.cursor()\n",
    "\n",
    "        # Creating the database schema\n",
    "        cursor.execute(\"\"\"\n",
    "        CREATE TABLE IF NOT EXISTS sales_data (\n",
    "            order_id INT PRIMARY KEY,\n",
    "            order_date DATE,\n",
    "            quantity INT,\n",
    "            price FLOAT,\n",
    "            total_revenue FLOAT,\n",
    "            year INT,\n",
    "            month INT,\n",
    "            day INT\n",
    "        );\n",
    "        \"\"\")\n",
    "        connection.commit()  # Commit the transaction\n",
    "        print(\"Table created successfully.\")\n",
    "        for _, row in sales_df.iterrows():\n",
    "            cursor.execute(\"\"\"\n",
    "            INSERT INTO sales_data (order_id, order_date, quantity, price, total_revenue, year, month, day)\n",
    "            VALUES (%s, %s, %s, %s, %s, %s, %s, %s)\n",
    "            \"\"\", (row['order_id'], row['order_date'], row['quantity'], row['price'], row['total_revenue'],\n",
    "                  row['year'], row['month'], row['day']))\n",
    "            connection.commit()\n",
    "        \n",
    "\n",
    "        # verify data in database\n",
    "        cursor.execute(\"SELECT * FROM sales_data LIMIT 5\")\n",
    "        rows = cursor.fetchall()\n",
    "        for row in rows:\n",
    "            print(row)\n",
    "\n",
    "except Error as e:\n",
    "    print(f\"Error connecting to MySQL: {e}\")\n",
    "    print(db_config.password)\n",
    "\n",
    "finally:\n",
    "    # Close the connection if it was established\n",
    "    if 'connection' in locals() and connection.is_connected():\n",
    "        cursor.close()\n",
    "        connection.close()\n",
    "        print(\"MySQL connection is closed.\")\n",
    "\n",
    "\n"
   ]
  }
 ],
 "metadata": {
  "kernelspec": {
   "display_name": "Python 3 (ipykernel)",
   "language": "python",
   "name": "python3"
  },
  "language_info": {
   "codemirror_mode": {
    "name": "ipython",
    "version": 3
   },
   "file_extension": ".py",
   "mimetype": "text/x-python",
   "name": "python",
   "nbconvert_exporter": "python",
   "pygments_lexer": "ipython3",
   "version": "3.12.7"
  }
 },
 "nbformat": 4,
 "nbformat_minor": 5
}
